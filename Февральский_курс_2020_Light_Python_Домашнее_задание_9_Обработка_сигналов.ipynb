{
  "nbformat": 4,
  "nbformat_minor": 0,
  "metadata": {
    "colab": {
      "provenance": [],
      "include_colab_link": true
    },
    "kernelspec": {
      "name": "python3",
      "display_name": "Python 3"
    }
  },
  "cells": [
    {
      "cell_type": "markdown",
      "metadata": {
        "id": "view-in-github",
        "colab_type": "text"
      },
      "source": [
        "<a href=\"https://colab.research.google.com/github/xp348/intelligent-information-systems/blob/main/%D0%A4%D0%B5%D0%B2%D1%80%D0%B0%D0%BB%D1%8C%D1%81%D0%BA%D0%B8%D0%B9_%D0%BA%D1%83%D1%80%D1%81_2020_Light_Python_%D0%94%D0%BE%D0%BC%D0%B0%D1%88%D0%BD%D0%B5%D0%B5_%D0%B7%D0%B0%D0%B4%D0%B0%D0%BD%D0%B8%D0%B5_9_%D0%9E%D0%B1%D1%80%D0%B0%D0%B1%D0%BE%D1%82%D0%BA%D0%B0_%D1%81%D0%B8%D0%B3%D0%BD%D0%B0%D0%BB%D0%BE%D0%B2.ipynb\" target=\"_parent\"><img src=\"https://colab.research.google.com/assets/colab-badge.svg\" alt=\"Open In Colab\"/></a>"
      ]
    },
    {
      "cell_type": "markdown",
      "metadata": {
        "id": "Pr01AnVykYeL"
      },
      "source": [
        "**Light**\n",
        "\n",
        "Задание 1:\n",
        "\n",
        "Переписать функцию Sine , таким образом, чтобы на выходе получать сигнал косинуса вместо синуса (np.cos)\n",
        "\n",
        "\n",
        "\n",
        "\n",
        "\n",
        "\n",
        "\n",
        "\n",
        "\n",
        "\n",
        "\n",
        "\n",
        "\n",
        "\n",
        "\n",
        "\n"
      ]
    },
    {
      "cell_type": "code",
      "metadata": {
        "id": "Kj-Sslv8k4dh"
      },
      "source": [],
      "execution_count": 5,
      "outputs": []
    },
    {
      "cell_type": "markdown",
      "metadata": {
        "id": "o_2jQjZtYacb"
      },
      "source": [
        "Задание 4:\n",
        "\n",
        "Сигнал задан следующей функцией:\n",
        "t = np.linspace(0, 1, n, endpoint=True)\n",
        "np.sin(3*np.pi*t) + np.sin(5*np.pi*t)\n",
        "Отобразить на графике Аналоговый, Дискретный и Квантованные сигналы"
      ]
    },
    {
      "cell_type": "code",
      "metadata": {
        "id": "-D2h4EBCk5j3"
      },
      "source": [],
      "execution_count": null,
      "outputs": []
    },
    {
      "cell_type": "markdown",
      "metadata": {
        "id": "I6mh2tNBYnEV"
      },
      "source": [
        "Задание 5:\n",
        "\n",
        "Загрузите любой аудио сигнал и сделайте его Фурье преобразование. Выведите на графике амплитудный спектр."
      ]
    },
    {
      "cell_type": "code",
      "metadata": {
        "id": "7NR_cE4Yk6Gw"
      },
      "source": [],
      "execution_count": null,
      "outputs": []
    },
    {
      "cell_type": "markdown",
      "metadata": {
        "id": "jPves9PRxXm9"
      },
      "source": [
        "Задача 6:\n",
        "\n",
        "Найдите модуль и аргумент спектра для следующего сигнала гармонического сигнала: синус (np.sin) С Частотой 20Гц Амплитудой 3 И фазой 1"
      ]
    },
    {
      "cell_type": "code",
      "metadata": {
        "id": "VHhcCEBnhyKs"
      },
      "source": [],
      "execution_count": null,
      "outputs": []
    },
    {
      "cell_type": "markdown",
      "metadata": {
        "id": "zrXHRZknlD_6"
      },
      "source": [
        "**PRO**\n"
      ]
    },
    {
      "cell_type": "markdown",
      "metadata": {
        "id": "ampYXpFWigFw"
      },
      "source": [
        "Задача 1:\n",
        "\n",
        "Найдите модуль спектра для следующего сигнала [5,3,0,0,0,-1,3, 3, 5, 0].\n"
      ]
    },
    {
      "cell_type": "code",
      "metadata": {
        "id": "UGAWLr-yk8Sq"
      },
      "source": [],
      "execution_count": null,
      "outputs": []
    },
    {
      "cell_type": "markdown",
      "metadata": {
        "id": "Nxf_gfqOgzAa"
      },
      "source": [
        "Задача 2:\n",
        "\n",
        "Дан сложный сигнал состаящий из 4-х гармонических компонент (синус) с различными значениями амплитуд и частот. Выведите спектр сигнала, на основе спектра определите частоты и амплитуды гармонических составляющих\n",
        "\n",
        "сигнал (50 отсчетов): [ 0.00000000e+00, 6.61225969e+00, 3.25848078e+00, -1.20084548e+00, 3.45301249e+00, 8.94406332e+00, 4.69738850e+00, -1.36112077e+00, 2.18739790e+00, 8.35228095e+00, 5.25735866e+00, -1.07697134e+00, 1.30202985e+00, 6.87594476e+00, 3.25150704e+00, -4.69190350e+00, -3.88118391e+00, 2.10527395e+00, 3.66950398e-01, -6.14121684e+00, -4.38906614e+00, 3.21326193e+00, 3.07651304e+00, -3.62470149e+00, -3.41879558e+00, 3.41879558e+00, 3.62470149e+00, -3.07651304e+00, -3.21326193e+00, 4.38906614e+00, 6.14121684e+00, -3.66950398e-01, -2.10527395e+00, 3.88118391e+00, 4.69190350e+00, -3.25150704e+00, -6.87594476e+00, -1.30202985e+00, 1.07697134e+00, -5.25735866e+00, -8.35228095e+00, -2.18739790e+00, 1.36112077e+00, -4.69738850e+00, -8.94406332e+00, -3.45301249e+00, 1.20084548e+00, -3.25848078e+00, -6.61225969e+00, -1.78798433e-14]"
      ]
    },
    {
      "cell_type": "code",
      "metadata": {
        "id": "9DcGdkvVk8md"
      },
      "source": [],
      "execution_count": null,
      "outputs": []
    },
    {
      "cell_type": "markdown",
      "metadata": {
        "id": "WZnZqT6Gg_qc"
      },
      "source": [
        "Задача 3:\n",
        "\n",
        "Самостоятельно ознакомившись с тем что такое Автокорреляционная функция рассчитать и отобразить графически Автокорреляционную функцию прямоугольного импульса: [np.zeros(8), np.ones(3), np.zeros(8)] , Напишите функцию вычисляющую автокорреляцию."
      ]
    },
    {
      "cell_type": "code",
      "metadata": {
        "id": "B3yTchb7k8-H"
      },
      "source": [],
      "execution_count": null,
      "outputs": []
    },
    {
      "cell_type": "markdown",
      "metadata": {
        "id": "HncDI1w1YwJ1"
      },
      "source": [
        "Задача 4:\n",
        "\n",
        "Попробуйте подобрать другой тип сигнала (например, ЭКГ, временной ряд и т.д.) и сделать его преобразование Фурье. Выведите его спектрограмму и полученный после преобразования амплитудный спектр\n",
        "\n"
      ]
    },
    {
      "cell_type": "code",
      "metadata": {
        "id": "qp2qmwz6k7Dy"
      },
      "source": [],
      "execution_count": null,
      "outputs": []
    }
  ]
}